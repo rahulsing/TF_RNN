{
  "nbformat": 4,
  "nbformat_minor": 0,
  "metadata": {
    "colab": {
      "name": "RNN_OCR.ipynb",
      "version": "0.3.2",
      "provenance": [],
      "include_colab_link": true
    },
    "kernelspec": {
      "name": "python2",
      "display_name": "Python 2"
    }
  },
  "cells": [
    {
      "cell_type": "markdown",
      "metadata": {
        "id": "view-in-github",
        "colab_type": "text"
      },
      "source": [
        "<a href=\"https://colab.research.google.com/github/rahulsing/TF_RNN/blob/master/RNN_OCR.ipynb\" target=\"_parent\"><img src=\"https://colab.research.google.com/assets/colab-badge.svg\" alt=\"Open In Colab\"/></a>"
      ]
    },
    {
      "metadata": {
        "id": "n9bZBfb7O_co",
        "colab_type": "code",
        "outputId": "13a3232c-7ba2-4645-9dd8-5f38f71c90cf",
        "colab": {
          "base_uri": "https://localhost:8080/",
          "height": 34
        }
      },
      "cell_type": "code",
      "source": [
        "from platform import python_version\n",
        "print(python_version())"
      ],
      "execution_count": 6,
      "outputs": [
        {
          "output_type": "stream",
          "text": [
            "2.7.15rc1\n"
          ],
          "name": "stdout"
        }
      ]
    },
    {
      "metadata": {
        "id": "381xP38ePytl",
        "colab_type": "code",
        "colab": {}
      },
      "cell_type": "code",
      "source": [
        "from __future__ import absolute_import\n",
        "from __future__ import division\n",
        "from __future__ import print_function"
      ],
      "execution_count": 0,
      "outputs": []
    },
    {
      "metadata": {
        "id": "fOpn1Ls-QBkk",
        "colab_type": "code",
        "colab": {}
      },
      "cell_type": "code",
      "source": [
        "import os\n",
        "import gzip\n",
        "import csv\n",
        "import numpy as np\n",
        "import tensorflow as tf\n"
      ],
      "execution_count": 0,
      "outputs": []
    },
    {
      "metadata": {
        "id": "rm38EclNQNBv",
        "colab_type": "code",
        "colab": {}
      },
      "cell_type": "code",
      "source": [
        "%matplotlib inline\n",
        "\n",
        "import matplotlib\n",
        "import matplotlib.pyplot as plt\n"
      ],
      "execution_count": 0,
      "outputs": []
    },
    {
      "metadata": {
        "id": "hEa8yfJ9QVwd",
        "colab_type": "code",
        "colab": {}
      },
      "cell_type": "code",
      "source": [
        "from six.moves import urllib"
      ],
      "execution_count": 0,
      "outputs": []
    },
    {
      "metadata": {
        "id": "tP409H4cQfRN",
        "colab_type": "code",
        "outputId": "75f50a3c-4d76-4f8e-ecbe-e4b2e5b525f4",
        "colab": {
          "base_uri": "https://localhost:8080/",
          "height": 51
        }
      },
      "cell_type": "code",
      "source": [
        "print(np.__version__)\n",
        "print(tf.__version__)"
      ],
      "execution_count": 7,
      "outputs": [
        {
          "output_type": "stream",
          "text": [
            "1.14.6\n",
            "1.12.0\n"
          ],
          "name": "stdout"
        }
      ]
    },
    {
      "metadata": {
        "id": "QKemEBeaPGqN",
        "colab_type": "code",
        "colab": {}
      },
      "cell_type": "code",
      "source": [
        "# http://ai.stanford.edu/~btaskar/ocr\n",
        "URL_PATH=\"http://ai.stanford.edu/~btaskar/ocr/letter.data.gz\"\n",
        "DOWNLOADED_FILENAME=\"letter.data.gz\""
      ],
      "execution_count": 0,
      "outputs": []
    },
    {
      "metadata": {
        "id": "umAGVD4aRSeN",
        "colab_type": "code",
        "colab": {}
      },
      "cell_type": "code",
      "source": [
        "def download_data():\n",
        "  if not os.path.exists(DOWNLOADED_FILENAME):\n",
        "    filename,_=urllib.request.urlretrieve(URL_PATH,DOWNLOADED_FILENAME)\n",
        "    \n",
        "  print('Found and verified file from this path: ', URL_PATH)\n",
        "  print('Downloaded file: ',DOWNLOADED_FILENAME)\n"
      ],
      "execution_count": 0,
      "outputs": []
    },
    {
      "metadata": {
        "id": "7CWD-KAwRtVv",
        "colab_type": "code",
        "outputId": "85f47566-07c5-4aba-819a-00e52ad238c0",
        "colab": {
          "base_uri": "https://localhost:8080/",
          "height": 51
        }
      },
      "cell_type": "code",
      "source": [
        "download_data()"
      ],
      "execution_count": 10,
      "outputs": [
        {
          "output_type": "stream",
          "text": [
            "Found and verified file from this path:  http://ai.stanford.edu/~btaskar/ocr/letter.data.gz\n",
            "Downloaded file:  letter.data.gz\n"
          ],
          "name": "stdout"
        }
      ]
    },
    {
      "metadata": {
        "id": "aNHRxP7oTWb3",
        "colab_type": "code",
        "colab": {}
      },
      "cell_type": "code",
      "source": [
        "def read_lines():\n",
        "  with gzip.open(DOWNLOADED_FILENAME,'rt') as f:\n",
        "    reader=csv.reader(f,delimiter='\\t')\n",
        "    lines=list(reader)\n",
        "    return lines"
      ],
      "execution_count": 0,
      "outputs": []
    },
    {
      "metadata": {
        "id": "N46ZxN-xTcSe",
        "colab_type": "code",
        "outputId": "f710f48c-4d8a-4d92-eebf-81418685bb3e",
        "colab": {
          "base_uri": "https://localhost:8080/",
          "height": 34
        }
      },
      "cell_type": "code",
      "source": [
        "lines=read_lines()\n",
        "len(lines)"
      ],
      "execution_count": 12,
      "outputs": [
        {
          "output_type": "execute_result",
          "data": {
            "text/plain": [
              "52152"
            ]
          },
          "metadata": {
            "tags": []
          },
          "execution_count": 12
        }
      ]
    },
    {
      "metadata": {
        "id": "t8_EUok0K0bK",
        "colab_type": "code",
        "colab": {
          "base_uri": "https://localhost:8080/",
          "height": 2329
        },
        "outputId": "7b70dcf3-f386-4a4d-b062-260236491d6c"
      },
      "cell_type": "code",
      "source": [
        "# print one record\n",
        "# row : 1, all col: 52152\n",
        "# Index 0 : identifier\n",
        "# Index 1: letter/charater is a index 1, zero based index\n",
        "# Index 2: Next letter of the word ID\n",
        "# Index 3: WORD ID\n",
        "# Index 4: Position\n",
        "# Index 5: Fold\n",
        "# Remaining 128 : Pixel values of the letter\n",
        "print(len(lines[1])) #135\n",
        "\n",
        "lines[1]"
      ],
      "execution_count": 110,
      "outputs": [
        {
          "output_type": "stream",
          "text": [
            "135\n"
          ],
          "name": "stdout"
        },
        {
          "output_type": "execute_result",
          "data": {
            "text/plain": [
              "['2',\n",
              " 'm',\n",
              " '3',\n",
              " '1',\n",
              " '2',\n",
              " '0',\n",
              " '0',\n",
              " '0',\n",
              " '0',\n",
              " '0',\n",
              " '0',\n",
              " '0',\n",
              " '0',\n",
              " '0',\n",
              " '0',\n",
              " '0',\n",
              " '0',\n",
              " '0',\n",
              " '0',\n",
              " '0',\n",
              " '0',\n",
              " '0',\n",
              " '0',\n",
              " '0',\n",
              " '0',\n",
              " '0',\n",
              " '0',\n",
              " '0',\n",
              " '0',\n",
              " '0',\n",
              " '0',\n",
              " '0',\n",
              " '0',\n",
              " '0',\n",
              " '0',\n",
              " '0',\n",
              " '0',\n",
              " '0',\n",
              " '0',\n",
              " '0',\n",
              " '0',\n",
              " '0',\n",
              " '0',\n",
              " '0',\n",
              " '0',\n",
              " '0',\n",
              " '0',\n",
              " '0',\n",
              " '0',\n",
              " '0',\n",
              " '0',\n",
              " '0',\n",
              " '0',\n",
              " '0',\n",
              " '0',\n",
              " '1',\n",
              " '1',\n",
              " '1',\n",
              " '1',\n",
              " '1',\n",
              " '1',\n",
              " '0',\n",
              " '1',\n",
              " '1',\n",
              " '0',\n",
              " '1',\n",
              " '1',\n",
              " '0',\n",
              " '1',\n",
              " '1',\n",
              " '1',\n",
              " '0',\n",
              " '1',\n",
              " '1',\n",
              " '0',\n",
              " '0',\n",
              " '0',\n",
              " '1',\n",
              " '1',\n",
              " '0',\n",
              " '1',\n",
              " '1',\n",
              " '0',\n",
              " '0',\n",
              " '0',\n",
              " '1',\n",
              " '0',\n",
              " '0',\n",
              " '0',\n",
              " '0',\n",
              " '0',\n",
              " '0',\n",
              " '0',\n",
              " '0',\n",
              " '0',\n",
              " '0',\n",
              " '0',\n",
              " '0',\n",
              " '0',\n",
              " '0',\n",
              " '0',\n",
              " '0',\n",
              " '0',\n",
              " '0',\n",
              " '0',\n",
              " '0',\n",
              " '0',\n",
              " '0',\n",
              " '0',\n",
              " '0',\n",
              " '0',\n",
              " '0',\n",
              " '0',\n",
              " '0',\n",
              " '0',\n",
              " '0',\n",
              " '0',\n",
              " '0',\n",
              " '0',\n",
              " '0',\n",
              " '0',\n",
              " '0',\n",
              " '0',\n",
              " '0',\n",
              " '0',\n",
              " '0',\n",
              " '0',\n",
              " '0',\n",
              " '0',\n",
              " '0',\n",
              " '0',\n",
              " '0',\n",
              " '0',\n",
              " '0',\n",
              " '']"
            ]
          },
          "metadata": {
            "tags": []
          },
          "execution_count": 110
        }
      ]
    },
    {
      "metadata": {
        "id": "MK3MC8SdTnj4",
        "colab_type": "code",
        "outputId": "8882ba63-8ea3-45c1-88ac-33f527df67fe",
        "colab": {
          "base_uri": "https://localhost:8080/",
          "height": 34
        }
      },
      "cell_type": "code",
      "source": [
        "lines[1][:15]"
      ],
      "execution_count": 13,
      "outputs": [
        {
          "output_type": "execute_result",
          "data": {
            "text/plain": [
              "['2', 'm', '3', '1', '2', '0', '0', '0', '0', '0', '0', '0', '0', '0', '0']"
            ]
          },
          "metadata": {
            "tags": []
          },
          "execution_count": 13
        }
      ]
    },
    {
      "metadata": {
        "id": "Mq5n5b5jTrkQ",
        "colab_type": "code",
        "colab": {}
      },
      "cell_type": "code",
      "source": [
        "def get_features_labels(lines):\n",
        "  lines=sorted(lines,key=lambda x:int(x[0]))\n",
        "  data,target=[],[]\n",
        "  next_id=-1\n",
        "\n",
        "  word=[]\n",
        "  word_pixels=[]\n",
        "  for line in lines:\n",
        "    next_id=int(line[2])\n",
        "    pixels=np.array([int(x) for x in line[6:134]])\n",
        "    pixels=pixels.reshape((16,8))\n",
        "    \n",
        "    word_pixels.append(pixels)\n",
        "    word.append(line[1])\n",
        "    \n",
        "    if next_id==-1:\n",
        "      data.append(word_pixels)\n",
        "      target.append(word)\n",
        "      \n",
        "      word=[]\n",
        "      word_pixels=[]\n",
        "      \n",
        "  return data,target"
      ],
      "execution_count": 0,
      "outputs": []
    },
    {
      "metadata": {
        "id": "mSlBXUi9VM0g",
        "colab_type": "code",
        "colab": {}
      },
      "cell_type": "code",
      "source": [
        "data,target=get_features_labels(lines)"
      ],
      "execution_count": 0,
      "outputs": []
    },
    {
      "metadata": {
        "id": "z3CLXcSFWGgS",
        "colab_type": "code",
        "colab": {
          "base_uri": "https://localhost:8080/",
          "height": 34
        },
        "outputId": "bfee665a-e42f-4165-e9b9-2fa1fd40ebaf"
      },
      "cell_type": "code",
      "source": [
        "print(target[1],target[2],target[200])"
      ],
      "execution_count": 115,
      "outputs": [
        {
          "output_type": "stream",
          "text": [
            "['o', 'm', 'm', 'a', 'n', 'd', 'i', 'n', 'g'] ['o', 'm', 'm', 'a', 'n', 'd', 'i', 'n', 'g'] ['m', 'b', 'r', 'a', 'c', 'e', 's']\n"
          ],
          "name": "stdout"
        }
      ]
    },
    {
      "metadata": {
        "id": "ptohbkPPVSMo",
        "colab_type": "code",
        "outputId": "63729a5a-4542-4743-84fe-df05e96d83be",
        "colab": {
          "base_uri": "https://localhost:8080/",
          "height": 34
        }
      },
      "cell_type": "code",
      "source": [
        "len(data),len(target)"
      ],
      "execution_count": 16,
      "outputs": [
        {
          "output_type": "execute_result",
          "data": {
            "text/plain": [
              "(6877, 6877)"
            ]
          },
          "metadata": {
            "tags": []
          },
          "execution_count": 16
        }
      ]
    },
    {
      "metadata": {
        "id": "TgQK7XGKVVs4",
        "colab_type": "code",
        "colab": {}
      },
      "cell_type": "code",
      "source": [
        "# padding of the word charater to make all the word of equal size\n",
        "# word with maximum letter is of 14 charater\n",
        "# all the word with less than 14 charter will be appended with image(16 X 8) of 0s , as empty charter\n",
        "def pad_features_labels(data,target):\n",
        "  max_length=max(len(x) for x in target)\n",
        "  # image with 0s to pad the word, as empty charter\n",
        "  padding=np.zeros((16,8))\n",
        "  \n",
        "  data=[x+([padding]*(max_length-len(x))) for x in data]\n",
        "  \n",
        "  target=[x+(['']*(max_length-len(x))) for x in target]\n",
        "              \n",
        "  return np.array(data),np.array(target)"
      ],
      "execution_count": 0,
      "outputs": []
    },
    {
      "metadata": {
        "id": "OOzAdFXkWIBQ",
        "colab_type": "code",
        "colab": {}
      },
      "cell_type": "code",
      "source": [
        "# Features and Lables\n",
        "padded_data,padded_target=pad_features_labels(data,target)"
      ],
      "execution_count": 0,
      "outputs": []
    },
    {
      "metadata": {
        "id": "PicJR4qEWWpg",
        "colab_type": "code",
        "outputId": "11acee8d-2805-4316-fe55-402d95f30ef0",
        "colab": {
          "base_uri": "https://localhost:8080/",
          "height": 34
        }
      },
      "cell_type": "code",
      "source": [
        "len(padded_data),len(padded_target)"
      ],
      "execution_count": 20,
      "outputs": [
        {
          "output_type": "execute_result",
          "data": {
            "text/plain": [
              "(6877, 6877)"
            ]
          },
          "metadata": {
            "tags": []
          },
          "execution_count": 20
        }
      ]
    },
    {
      "metadata": {
        "id": "rRgCKpj1Wp6S",
        "colab_type": "text"
      },
      "cell_type": "markdown",
      "source": [
        "Total Line=52152\n",
        "\n",
        "Total Word=6877"
      ]
    },
    {
      "metadata": {
        "id": "pFxKLaDUWajQ",
        "colab_type": "code",
        "outputId": "5cc08af1-62b7-4831-c7a6-cae486a02728",
        "colab": {
          "base_uri": "https://localhost:8080/",
          "height": 204
        }
      },
      "cell_type": "code",
      "source": [
        "#  verify the target labels padded with empty charater\n",
        "padded_target[:10]\n"
      ],
      "execution_count": 21,
      "outputs": [
        {
          "output_type": "execute_result",
          "data": {
            "text/plain": [
              "array([['o', 'm', 'm', 'a', 'n', 'd', 'i', 'n', 'g', '', '', '', '', ''],\n",
              "       ['o', 'm', 'm', 'a', 'n', 'd', 'i', 'n', 'g', '', '', '', '', ''],\n",
              "       ['o', 'm', 'm', 'a', 'n', 'd', 'i', 'n', 'g', '', '', '', '', ''],\n",
              "       ['o', 'm', 'm', 'a', 'n', 'd', 'i', 'n', 'g', '', '', '', '', ''],\n",
              "       ['o', 'm', 'm', 'a', 'n', 'd', 'i', 'n', 'g', '', '', '', '', ''],\n",
              "       ['o', 'm', 'm', 'a', 'n', 'd', 'i', 'n', 'g', '', '', '', '', ''],\n",
              "       ['o', 'm', 'm', 'a', 'n', 'd', 'i', 'n', 'g', '', '', '', '', ''],\n",
              "       ['o', 'm', 'm', 'a', 'n', 'd', 'i', 'n', 'g', '', '', '', '', ''],\n",
              "       ['o', 'm', 'm', 'a', 'n', 'd', 'i', 'n', 'g', '', '', '', '', ''],\n",
              "       ['o', 'm', 'm', 'a', 'n', 'd', 'i', 'n', 'g', '', '', '', '', '']],\n",
              "      dtype='|S1')"
            ]
          },
          "metadata": {
            "tags": []
          },
          "execution_count": 21
        }
      ]
    },
    {
      "metadata": {
        "id": "83lQ97uZWUMo",
        "colab_type": "code",
        "outputId": "7b253e95-189f-4bce-aff8-97d9091dfeea",
        "colab": {
          "base_uri": "https://localhost:8080/",
          "height": 204
        }
      },
      "cell_type": "code",
      "source": [
        "padded_target[200:210]"
      ],
      "execution_count": 22,
      "outputs": [
        {
          "output_type": "execute_result",
          "data": {
            "text/plain": [
              "array([['m', 'b', 'r', 'a', 'c', 'e', 's', '', '', '', '', '', '', ''],\n",
              "       ['m', 'b', 'r', 'a', 'c', 'e', 's', '', '', '', '', '', '', ''],\n",
              "       ['m', 'b', 'r', 'a', 'c', 'e', 's', '', '', '', '', '', '', ''],\n",
              "       ['m', 'b', 'r', 'a', 'c', 'e', 's', '', '', '', '', '', '', ''],\n",
              "       ['m', 'b', 'r', 'a', 'c', 'e', 's', '', '', '', '', '', '', ''],\n",
              "       ['m', 'b', 'r', 'a', 'c', 'e', 's', '', '', '', '', '', '', ''],\n",
              "       ['m', 'b', 'r', 'a', 'c', 'e', 's', '', '', '', '', '', '', ''],\n",
              "       ['m', 'b', 'r', 'a', 'c', 'e', 's', '', '', '', '', '', '', ''],\n",
              "       ['m', 'b', 'r', 'a', 'c', 'e', 's', '', '', '', '', '', '', ''],\n",
              "       ['m', 'b', 'r', 'a', 'c', 'e', 's', '', '', '', '', '', '', '']],\n",
              "      dtype='|S1')"
            ]
          },
          "metadata": {
            "tags": []
          },
          "execution_count": 22
        }
      ]
    },
    {
      "metadata": {
        "id": "z07R8sDlW6-P",
        "colab_type": "code",
        "colab": {}
      },
      "cell_type": "code",
      "source": [
        ""
      ],
      "execution_count": 0,
      "outputs": []
    },
    {
      "metadata": {
        "id": "jJb7MsO0WQ3w",
        "colab_type": "code",
        "colab": {}
      },
      "cell_type": "code",
      "source": [
        "word_length=len(padded_target[0])"
      ],
      "execution_count": 0,
      "outputs": []
    },
    {
      "metadata": {
        "id": "BJRvadBIW9W4",
        "colab_type": "code",
        "outputId": "8b44c0a2-1642-4f91-c209-fa180bd1a1a3",
        "colab": {
          "base_uri": "https://localhost:8080/",
          "height": 34
        }
      },
      "cell_type": "code",
      "source": [
        "word_length"
      ],
      "execution_count": 24,
      "outputs": [
        {
          "output_type": "execute_result",
          "data": {
            "text/plain": [
              "14"
            ]
          },
          "metadata": {
            "tags": []
          },
          "execution_count": 24
        }
      ]
    },
    {
      "metadata": {
        "id": "qjqyeHvFYK92",
        "colab_type": "code",
        "colab": {
          "base_uri": "https://localhost:8080/",
          "height": 646
        },
        "outputId": "5e38ee4e-0ba3-473d-a1bf-73e6ea4ba859"
      },
      "cell_type": "code",
      "source": [
        "# (6877, 14, 16, 8)\n",
        "#print the no of words\n",
        "print(len(padded_data))\n",
        "#print the last word\n",
        "print(len(padded_data[6876]))\n",
        "# word made of the these 14 charater arrays, also has padded data\n",
        "print((padded_data[6876][1]))\n",
        "print('\\n\\n')\n",
        "#print the last word\n",
        "print((padded_data[6876][1][:][:]))\n",
        "#[1][1]\n"
      ],
      "execution_count": 139,
      "outputs": [
        {
          "output_type": "stream",
          "text": [
            "6877\n",
            "14\n",
            "[[0. 0. 0. 0. 0. 0. 0. 0.]\n",
            " [0. 0. 0. 0. 0. 0. 0. 0.]\n",
            " [0. 0. 0. 1. 1. 1. 0. 0.]\n",
            " [0. 1. 1. 1. 0. 0. 0. 0.]\n",
            " [1. 1. 0. 0. 0. 0. 0. 0.]\n",
            " [1. 0. 0. 0. 0. 0. 0. 0.]\n",
            " [1. 0. 0. 0. 0. 0. 0. 0.]\n",
            " [1. 0. 0. 0. 0. 0. 0. 0.]\n",
            " [1. 0. 0. 0. 0. 0. 0. 0.]\n",
            " [1. 0. 0. 0. 0. 0. 0. 0.]\n",
            " [1. 0. 0. 0. 0. 0. 0. 0.]\n",
            " [1. 0. 0. 0. 0. 0. 0. 0.]\n",
            " [1. 1. 1. 0. 0. 0. 0. 0.]\n",
            " [0. 0. 1. 1. 1. 1. 1. 1.]\n",
            " [0. 0. 0. 0. 0. 0. 0. 0.]\n",
            " [0. 0. 0. 0. 0. 0. 0. 0.]]\n",
            "\n",
            "\n",
            "\n",
            "[[0. 0. 0. 0. 0. 0. 0. 0.]\n",
            " [0. 0. 0. 0. 0. 0. 0. 0.]\n",
            " [0. 0. 0. 1. 1. 1. 0. 0.]\n",
            " [0. 1. 1. 1. 0. 0. 0. 0.]\n",
            " [1. 1. 0. 0. 0. 0. 0. 0.]\n",
            " [1. 0. 0. 0. 0. 0. 0. 0.]\n",
            " [1. 0. 0. 0. 0. 0. 0. 0.]\n",
            " [1. 0. 0. 0. 0. 0. 0. 0.]\n",
            " [1. 0. 0. 0. 0. 0. 0. 0.]\n",
            " [1. 0. 0. 0. 0. 0. 0. 0.]\n",
            " [1. 0. 0. 0. 0. 0. 0. 0.]\n",
            " [1. 0. 0. 0. 0. 0. 0. 0.]\n",
            " [1. 1. 1. 0. 0. 0. 0. 0.]\n",
            " [0. 0. 1. 1. 1. 1. 1. 1.]\n",
            " [0. 0. 0. 0. 0. 0. 0. 0.]\n",
            " [0. 0. 0. 0. 0. 0. 0. 0.]]\n"
          ],
          "name": "stdout"
        }
      ]
    },
    {
      "metadata": {
        "id": "Ex0YJLRQXArQ",
        "colab_type": "code",
        "outputId": "efc379db-a61f-4073-f46d-a983a382876f",
        "colab": {
          "base_uri": "https://localhost:8080/",
          "height": 34
        }
      },
      "cell_type": "code",
      "source": [
        "padded_data.shape "
      ],
      "execution_count": 140,
      "outputs": [
        {
          "output_type": "execute_result",
          "data": {
            "text/plain": [
              "(6877, 14, 16, 8)"
            ]
          },
          "metadata": {
            "tags": []
          },
          "execution_count": 140
        }
      ]
    },
    {
      "metadata": {
        "id": "av8gQqwFXMo4",
        "colab_type": "code",
        "outputId": "f13f37c6-a00b-426e-aa73-26183dccc97b",
        "colab": {
          "base_uri": "https://localhost:8080/",
          "height": 34
        }
      },
      "cell_type": "code",
      "source": [
        "# reshape the last dimention of 16 X 8 into a flattend array for RNN\n",
        "# can be achived with adding (-1,)\n",
        "padded_data.shape[:2]+(-1,)"
      ],
      "execution_count": 143,
      "outputs": [
        {
          "output_type": "execute_result",
          "data": {
            "text/plain": [
              "(6877, 14, -1)"
            ]
          },
          "metadata": {
            "tags": []
          },
          "execution_count": 143
        }
      ]
    },
    {
      "metadata": {
        "id": "Ccg0hpJzXSwA",
        "colab_type": "code",
        "colab": {}
      },
      "cell_type": "code",
      "source": [
        "reshaped_data=padded_data.reshape(padded_data.shape[:2]+(-1,))"
      ],
      "execution_count": 0,
      "outputs": []
    },
    {
      "metadata": {
        "id": "3AB4srzrXlSJ",
        "colab_type": "code",
        "outputId": "41989eb1-b2c0-4981-8417-7a379721177c",
        "colab": {
          "base_uri": "https://localhost:8080/",
          "height": 34
        }
      },
      "cell_type": "code",
      "source": [
        "# dimention flattened to array of 128 \n",
        "reshaped_data.shape"
      ],
      "execution_count": 29,
      "outputs": [
        {
          "output_type": "execute_result",
          "data": {
            "text/plain": [
              "(6877, 14, 128)"
            ]
          },
          "metadata": {
            "tags": []
          },
          "execution_count": 29
        }
      ]
    },
    {
      "metadata": {
        "id": "Q_kZ0DFAluBy",
        "colab_type": "code",
        "colab": {
          "base_uri": "https://localhost:8080/",
          "height": 34
        },
        "outputId": "364bbe0a-d6dc-4580-d309-3438ded7ba0a"
      },
      "cell_type": "code",
      "source": [
        "padded_target.shape"
      ],
      "execution_count": 147,
      "outputs": [
        {
          "output_type": "execute_result",
          "data": {
            "text/plain": [
              "(6877, 14)"
            ]
          },
          "metadata": {
            "tags": []
          },
          "execution_count": 147
        }
      ]
    },
    {
      "metadata": {
        "id": "WzxsOiLXXpFo",
        "colab_type": "code",
        "outputId": "d006b448-f6b5-412e-bb0f-ed1d3b863eee",
        "colab": {
          "base_uri": "https://localhost:8080/",
          "height": 34
        }
      },
      "cell_type": "code",
      "source": [
        "# add a additional dimention of 26 for one hot encoding, representing 26 lower letters\n",
        "padded_target.shape+(26,)"
      ],
      "execution_count": 146,
      "outputs": [
        {
          "output_type": "execute_result",
          "data": {
            "text/plain": [
              "(6877, 14, 26)"
            ]
          },
          "metadata": {
            "tags": []
          },
          "execution_count": 146
        }
      ]
    },
    {
      "metadata": {
        "id": "S7IP701YYFE4",
        "colab_type": "code",
        "colab": {}
      },
      "cell_type": "code",
      "source": [
        "one_hot_target=np.zeros(padded_target.shape+(26,))"
      ],
      "execution_count": 0,
      "outputs": []
    },
    {
      "metadata": {
        "id": "jph8qyU_YPmo",
        "colab_type": "code",
        "colab": {}
      },
      "cell_type": "code",
      "source": [
        "# enumerate every word in target/label\n",
        "# every letter/charter \n",
        "for index,letter in np.ndenumerate(padded_target):\n",
        "  if letter:\n",
        "    # assign value 1 for the postion of the letter in one hot encoding\n",
        "    \n",
        "    # get the word : one_hot_target[index]\n",
        "    # index represented by letter [ord(letter)-ord('a')]\n",
        "    one_hot_target[index][ord(letter)-ord('a')]=1"
      ],
      "execution_count": 0,
      "outputs": []
    },
    {
      "metadata": {
        "id": "xygxnLNPYLzg",
        "colab_type": "code",
        "outputId": "4235fc6b-4af1-4b16-969f-74128d70e5fe",
        "colab": {
          "base_uri": "https://localhost:8080/",
          "height": 51
        }
      },
      "cell_type": "code",
      "source": [
        "one_hot_target[0][0]"
      ],
      "execution_count": 159,
      "outputs": [
        {
          "output_type": "execute_result",
          "data": {
            "text/plain": [
              "array([0., 0., 0., 0., 0., 0., 0., 0., 0., 0., 0., 0., 0., 0., 1., 0., 0.,\n",
              "       0., 0., 0., 0., 0., 0., 0., 0., 0.])"
            ]
          },
          "metadata": {
            "tags": []
          },
          "execution_count": 159
        }
      ]
    },
    {
      "metadata": {
        "id": "xytoxVkhYCHQ",
        "colab_type": "code",
        "colab": {}
      },
      "cell_type": "code",
      "source": [
        "# Shuffle the training data, this will remove any unwanted pattern for model training\n",
        "shuffled_indices=np.random.permutation(len(reshaped_data))\n",
        "\n",
        "shuffled_data=reshaped_data[shuffled_indices]\n",
        "\n",
        "shuffled_target=one_hot_target[shuffled_indices]"
      ],
      "execution_count": 0,
      "outputs": []
    },
    {
      "metadata": {
        "id": "b7___MRkX3ci",
        "colab_type": "code",
        "colab": {}
      },
      "cell_type": "code",
      "source": [
        "# split into training and test\n",
        "split=int(0.66*len(shuffled_data))\n",
        "\n",
        "train_data=shuffled_data[:split]\n",
        "train_target=shuffled_target[:split]\n",
        "\n",
        "test_data=shuffled_data[split:]\n",
        "test_target=shuffled_target[split:]\n"
      ],
      "execution_count": 0,
      "outputs": []
    },
    {
      "metadata": {
        "id": "ObNq7MUtacxh",
        "colab_type": "code",
        "outputId": "80f52b42-6b0e-4139-ce83-7dc3091df408",
        "colab": {
          "base_uri": "https://localhost:8080/",
          "height": 34
        }
      },
      "cell_type": "code",
      "source": [
        "# Training FEATURE\n",
        "# this will be the input to RNN\n",
        "# word, charater/letter, size/pixel of each letter\n",
        "train_data.shape"
      ],
      "execution_count": 163,
      "outputs": [
        {
          "output_type": "execute_result",
          "data": {
            "text/plain": [
              "(4538, 14, 128)"
            ]
          },
          "metadata": {
            "tags": []
          },
          "execution_count": 163
        }
      ]
    },
    {
      "metadata": {
        "id": "m9HZ2cFbaf8I",
        "colab_type": "code",
        "outputId": "6ce6b94b-8875-4917-c90e-5c524bfcf5fb",
        "colab": {
          "base_uri": "https://localhost:8080/",
          "height": 34
        }
      },
      "cell_type": "code",
      "source": [
        "# Training LABLE\n",
        "\n",
        "# batch size, no of steps, no of inputs\n",
        "_,num_steps,num_inputs=train_data.shape\n",
        "\n",
        "# shape of output label, same as the sape of RNN\n",
        "train_target.shape"
      ],
      "execution_count": 165,
      "outputs": [
        {
          "output_type": "execute_result",
          "data": {
            "text/plain": [
              "(4538, 14, 26)"
            ]
          },
          "metadata": {
            "tags": []
          },
          "execution_count": 165
        }
      ]
    },
    {
      "metadata": {
        "id": "qkMT-3OEau5i",
        "colab_type": "code",
        "colab": {}
      },
      "cell_type": "code",
      "source": [
        "# size of output\n",
        "num_classes=train_target.shape[2]"
      ],
      "execution_count": 0,
      "outputs": []
    },
    {
      "metadata": {
        "id": "uSTYJQXrbTdR",
        "colab_type": "code",
        "outputId": "48518600-ec44-4d29-be70-4b789b5ae936",
        "colab": {
          "base_uri": "https://localhost:8080/",
          "height": 34
        }
      },
      "cell_type": "code",
      "source": [
        "num_steps,num_inputs,num_classes"
      ],
      "execution_count": 39,
      "outputs": [
        {
          "output_type": "execute_result",
          "data": {
            "text/plain": [
              "(14, 128, 26)"
            ]
          },
          "metadata": {
            "tags": []
          },
          "execution_count": 39
        }
      ]
    },
    {
      "metadata": {
        "id": "gZUlvkUCbVeQ",
        "colab_type": "code",
        "colab": {}
      },
      "cell_type": "code",
      "source": [
        "tf.reset_default_graph()"
      ],
      "execution_count": 0,
      "outputs": []
    },
    {
      "metadata": {
        "id": "8LjGFdl2bZaB",
        "colab_type": "code",
        "colab": {}
      },
      "cell_type": "code",
      "source": [
        "# placeholder to hold the training feature data \n",
        "X=tf.placeholder(tf.float64,[None,num_steps,num_inputs])"
      ],
      "execution_count": 0,
      "outputs": []
    },
    {
      "metadata": {
        "id": "BXlhGwp6bXgp",
        "colab_type": "code",
        "colab": {}
      },
      "cell_type": "code",
      "source": [
        "# placeholder to hold the training lable data \n",
        "y=tf.placeholder(tf.float64,[None,num_steps,num_classes])"
      ],
      "execution_count": 0,
      "outputs": []
    },
    {
      "metadata": {
        "id": "XLP9UBEtW1sg",
        "colab_type": "code",
        "colab": {
          "base_uri": "https://localhost:8080/",
          "height": 34
        },
        "outputId": "9bb92246-5a28-4e2b-a5b9-803d66f88388"
      },
      "cell_type": "code",
      "source": [
        "# this line will chk if the charater is padding or actual charater\n",
        "# then place 1 for actual character and zero for padding\n",
        "# e.g. word cat: [1,1,1,0,0,0,0,0,0,0,0]\n",
        "used=tf.sign(tf.reduce_max(tf.abs(X),reduction_indices=2))\n",
        "\n",
        "# sum the 1s , will give the actual length of word\n",
        "# e.g. word cat: 3 \n",
        "length=tf.reduce_sum(used,reduction_indices=1)\n",
        "\n",
        "# cast to integer to get the sequence length\n",
        "sequence_length=tf.cast(length,tf.int32)"
      ],
      "execution_count": 167,
      "outputs": [
        {
          "output_type": "stream",
          "text": [
            "Tensor(\"Sign_3:0\", shape=(?, 14), dtype=float64)\n"
          ],
          "name": "stdout"
        }
      ]
    },
    {
      "metadata": {
        "id": "_uKbaPqDcEMF",
        "colab_type": "code",
        "outputId": "5902196c-faaf-4a76-b07c-b03c4198e1bd",
        "colab": {
          "base_uri": "https://localhost:8080/",
          "height": 34
        }
      },
      "cell_type": "code",
      "source": [
        "sequence_length"
      ],
      "execution_count": 168,
      "outputs": [
        {
          "output_type": "execute_result",
          "data": {
            "text/plain": [
              "<tf.Tensor 'Cast_4:0' shape=(?,) dtype=int32>"
            ]
          },
          "metadata": {
            "tags": []
          },
          "execution_count": 168
        }
      ]
    },
    {
      "metadata": {
        "id": "upZaIkkLcE7x",
        "colab_type": "code",
        "colab": {}
      },
      "cell_type": "code",
      "source": [
        "# Every Layer will have 300 neurons, \n",
        "num_neurons=300 #Hyper parameter, tunable"
      ],
      "execution_count": 0,
      "outputs": []
    },
    {
      "metadata": {
        "id": "66qzGaPbNVpF",
        "colab_type": "code",
        "colab": {}
      },
      "cell_type": "code",
      "source": [
        "# Cell: GRUCell, using long memory cell, for better performance \n",
        "cell=tf.nn.rnn_cell.GRUCell(num_neurons)"
      ],
      "execution_count": 0,
      "outputs": []
    },
    {
      "metadata": {
        "id": "Rj49HjjyNpX1",
        "colab_type": "code",
        "colab": {}
      },
      "cell_type": "code",
      "source": [
        "# Create RNN in TF, simply using tf library: tf.nn.dynamic_rnn\n",
        "# input argument:\n",
        "# cell : memory cell that is has to unroll through time, based on no. of steps \n",
        "# X is placeholder for training data\n",
        "# sequence_length: optional paratmer, used for correctness of our RNN , not for performance\n",
        "\n",
        "# result (tuple):  predicted output and last internal state of the RNN(not required now)\n",
        "output,_=tf.nn.dynamic_rnn(cell,X,dtype=tf.float64,sequence_length=sequence_length)"
      ],
      "execution_count": 0,
      "outputs": []
    },
    {
      "metadata": {
        "id": "d1y2TtMGPmpu",
        "colab_type": "code",
        "outputId": "8f772484-68eb-4c65-ad7f-98aea2f8984a",
        "colab": {
          "base_uri": "https://localhost:8080/",
          "height": 34
        }
      },
      "cell_type": "code",
      "source": [
        "output.shape"
      ],
      "execution_count": 170,
      "outputs": [
        {
          "output_type": "execute_result",
          "data": {
            "text/plain": [
              "TensorShape([Dimension(None), Dimension(14), Dimension(300)])"
            ]
          },
          "metadata": {
            "tags": []
          },
          "execution_count": 170
        }
      ]
    },
    {
      "metadata": {
        "id": "3Pm5D5sjPpRt",
        "colab_type": "code",
        "colab": {}
      },
      "cell_type": "code",
      "source": [
        "#TensorShape([Dimension(None), Dimension(14), Dimension(300)])\n",
        "#1st: batch size\n",
        "# 2nd : 14 , no of time period in out data\n",
        "# 3rd: 300,  no of neuron in each layer, or in a memory cell"
      ],
      "execution_count": 0,
      "outputs": []
    },
    {
      "metadata": {
        "id": "ahiIVLIBQIb9",
        "colab_type": "code",
        "colab": {}
      },
      "cell_type": "code",
      "source": [
        "weight=tf.Variable(tf.truncated_normal([num_neurons,num_classes],stddev=0.01,dtype=tf.float64))"
      ],
      "execution_count": 0,
      "outputs": []
    },
    {
      "metadata": {
        "id": "fdk6PqvRQaqe",
        "colab_type": "code",
        "colab": {}
      },
      "cell_type": "code",
      "source": [
        "bias=tf.Variable(tf.constant(0.1,shape=[num_classes],dtype=tf.float64))"
      ],
      "execution_count": 0,
      "outputs": []
    },
    {
      "metadata": {
        "id": "oZP5EYEcQu9e",
        "colab_type": "code",
        "colab": {}
      },
      "cell_type": "code",
      "source": [
        "flattened_output=tf.reshape(output,[-1,num_neurons])"
      ],
      "execution_count": 0,
      "outputs": []
    },
    {
      "metadata": {
        "id": "4aP_yBppQ22n",
        "colab_type": "code",
        "outputId": "65f62939-5849-49e7-c0de-e7b327124a65",
        "colab": {
          "base_uri": "https://localhost:8080/",
          "height": 34
        }
      },
      "cell_type": "code",
      "source": [
        "flattened_output"
      ],
      "execution_count": 53,
      "outputs": [
        {
          "output_type": "execute_result",
          "data": {
            "text/plain": [
              "<tf.Tensor 'Reshape:0' shape=(?, 300) dtype=float64>"
            ]
          },
          "metadata": {
            "tags": []
          },
          "execution_count": 53
        }
      ]
    },
    {
      "metadata": {
        "id": "kdezlnoXQ671",
        "colab_type": "code",
        "colab": {}
      },
      "cell_type": "code",
      "source": [
        "logits=tf.matmul(flattened_output,weight)+bias"
      ],
      "execution_count": 0,
      "outputs": []
    },
    {
      "metadata": {
        "id": "FyLvPRVyRE7l",
        "colab_type": "code",
        "colab": {}
      },
      "cell_type": "code",
      "source": [
        "logits_reshaped=tf.reshape(logits,[-1,num_steps,num_classes])"
      ],
      "execution_count": 0,
      "outputs": []
    },
    {
      "metadata": {
        "id": "pUk4W6iuReFt",
        "colab_type": "code",
        "outputId": "ecdd7507-ac32-4449-84f2-03f41d55f995",
        "colab": {
          "base_uri": "https://localhost:8080/",
          "height": 173
        }
      },
      "cell_type": "code",
      "source": [
        "cross_entropy=tf.nn.softmax_cross_entropy_with_logits(logits=logits,labels=y)"
      ],
      "execution_count": 57,
      "outputs": [
        {
          "output_type": "stream",
          "text": [
            "WARNING:tensorflow:From <ipython-input-57-89d4601d9a32>:1: softmax_cross_entropy_with_logits (from tensorflow.python.ops.nn_ops) is deprecated and will be removed in a future version.\n",
            "Instructions for updating:\n",
            "\n",
            "Future major versions of TensorFlow will allow gradients to flow\n",
            "into the labels input on backprop by default.\n",
            "\n",
            "See `tf.nn.softmax_cross_entropy_with_logits_v2`.\n",
            "\n"
          ],
          "name": "stdout"
        }
      ]
    },
    {
      "metadata": {
        "id": "Yf2F-aLGR9zG",
        "colab_type": "code",
        "colab": {}
      },
      "cell_type": "code",
      "source": [
        "loss=tf.reduce_mean(cross_entropy)"
      ],
      "execution_count": 0,
      "outputs": []
    },
    {
      "metadata": {
        "id": "OhH2HLHiSNEl",
        "colab_type": "code",
        "colab": {}
      },
      "cell_type": "code",
      "source": [
        "mistakes=tf.not_equal(tf.argmax(y,2),tf.argmax(logits_reshaped,2))\n",
        "mistakes=tf.cast(mistakes,tf.float64)"
      ],
      "execution_count": 0,
      "outputs": []
    },
    {
      "metadata": {
        "id": "c2cTQZMySzFe",
        "colab_type": "code",
        "colab": {}
      },
      "cell_type": "code",
      "source": [
        "mask=tf.sign(tf.reduce_max(tf.abs(y),reduction_indices=2))"
      ],
      "execution_count": 0,
      "outputs": []
    },
    {
      "metadata": {
        "id": "rscYdccnS8xV",
        "colab_type": "code",
        "colab": {}
      },
      "cell_type": "code",
      "source": [
        "mistakes*=mask"
      ],
      "execution_count": 0,
      "outputs": []
    },
    {
      "metadata": {
        "id": "46_C9N6MS_h2",
        "colab_type": "code",
        "colab": {}
      },
      "cell_type": "code",
      "source": [
        "mistakes=tf.reduce_sum(mistakes,reduction_indices=1)\n",
        "mistakes/=tf.cast(sequence_length,tf.float64)"
      ],
      "execution_count": 0,
      "outputs": []
    },
    {
      "metadata": {
        "id": "kZD3vth5TOWG",
        "colab_type": "code",
        "colab": {}
      },
      "cell_type": "code",
      "source": [
        "error=tf.reduce_mean(mistakes)"
      ],
      "execution_count": 0,
      "outputs": []
    },
    {
      "metadata": {
        "id": "J1-SoedyTTGO",
        "colab_type": "code",
        "colab": {}
      },
      "cell_type": "code",
      "source": [
        "optimizer=tf.train.RMSPropOptimizer(0.002)\n",
        "gradient=optimizer.compute_gradients(loss)\n",
        "\n",
        "optimize=optimizer.apply_gradients(gradient)"
      ],
      "execution_count": 0,
      "outputs": []
    },
    {
      "metadata": {
        "id": "r4HpoWcVTs_-",
        "colab_type": "code",
        "colab": {}
      },
      "cell_type": "code",
      "source": [
        "def batched(data,target,batch_size):\n",
        "  epoch=0\n",
        "  offset=0\n",
        "  \n",
        "  while True:\n",
        "    old_offset=offset\n",
        "    offset=(offset+batch_size)%(target.shape[0]-batch_size)\n",
        "    \n",
        "    if offset<old_offset:\n",
        "      shuffled_indices=np.random.permutation(len(data))\n",
        "      \n",
        "      data=data[shuffled_indices]\n",
        "      target=target[shuffled_indices]\n",
        "      \n",
        "      epoch+=1\n",
        "   \n",
        "    batch_data=data[offset:(offset+batch_size),:]\n",
        "    batch_target=target[offset:(offset+batch_size),:]\n",
        "    \n",
        "    yield batch_data,batch_target,epoch\n",
        "    "
      ],
      "execution_count": 0,
      "outputs": []
    },
    {
      "metadata": {
        "id": "liKaOEenVARl",
        "colab_type": "code",
        "colab": {}
      },
      "cell_type": "code",
      "source": [
        "batch_size=20\n",
        "batches=batched(train_data,train_target,batch_size)"
      ],
      "execution_count": 0,
      "outputs": []
    },
    {
      "metadata": {
        "id": "UDVgYqAHXC_l",
        "colab_type": "code",
        "colab": {
          "base_uri": "https://localhost:8080/",
          "height": 34
        },
        "outputId": "7a9714dc-2df1-4b3e-c270-e3b3f0b52f12"
      },
      "cell_type": "code",
      "source": [
        "batches"
      ],
      "execution_count": 99,
      "outputs": [
        {
          "output_type": "execute_result",
          "data": {
            "text/plain": [
              "<generator object batched at 0x7f4f878c0c80>"
            ]
          },
          "metadata": {
            "tags": []
          },
          "execution_count": 99
        }
      ]
    },
    {
      "metadata": {
        "id": "hoUPnsbmVNtW",
        "colab_type": "code",
        "colab": {}
      },
      "cell_type": "code",
      "source": [
        "epochs=5"
      ],
      "execution_count": 0,
      "outputs": []
    },
    {
      "metadata": {
        "id": "rhyIzZ2FVRVf",
        "colab_type": "code",
        "outputId": "d2927e90-e9c4-4a8d-ee74-a45d5fb2cc3f",
        "colab": {
          "base_uri": "https://localhost:8080/",
          "height": 13481
        }
      },
      "cell_type": "code",
      "source": [
        "with tf.Session() as sess:\n",
        "  sess.run(tf.global_variables_initializer())\n",
        "  \n",
        "  for index, batch in enumerate(batches):\n",
        "    batch_data=batch[0]\n",
        "    batch_target=batch[1]\n",
        "    #print(batch)\n",
        "    epoch=batch[2]\n",
        "    \n",
        "    if epoch>=epochs:\n",
        "      break\n",
        "    \n",
        "    feed={X:batch_data,y:batch_target}\n",
        "    \n",
        "    train_error,_=sess.run([error,optimize],feed)\n",
        "    \n",
        "    print('{}: {:3.6f}%'.format(index+1,100*train_error))\n",
        "    \n",
        "  test_feed={X:test_data,y:test_target}\n",
        "  test_error,_=sess.run([error,optimize],test_feed)\n",
        "  \n",
        "  print('Test error: {:3.6f}%'.format(100*test_error))"
      ],
      "execution_count": 102,
      "outputs": [
        {
          "output_type": "stream",
          "text": [
            "1: 98.000000%\n",
            "2: 98.541667%\n",
            "3: 98.958333%\n",
            "4: 96.587302%\n",
            "5: 98.541667%\n",
            "6: 96.924242%\n",
            "7: 94.277778%\n",
            "8: 98.333333%\n",
            "9: 96.916667%\n",
            "10: 97.708333%\n",
            "11: 95.140873%\n",
            "12: 98.313492%\n",
            "13: 94.513889%\n",
            "14: 92.851496%\n",
            "15: 96.944444%\n",
            "16: 98.583333%\n",
            "17: 96.361111%\n",
            "18: 93.591270%\n",
            "19: 95.489899%\n",
            "20: 96.285714%\n",
            "21: 92.001984%\n",
            "22: 94.914141%\n",
            "23: 99.444444%\n",
            "24: 95.430556%\n",
            "25: 95.147131%\n",
            "26: 97.708333%\n",
            "27: 94.406566%\n",
            "28: 95.795455%\n",
            "29: 93.313492%\n",
            "30: 95.279762%\n",
            "31: 96.694444%\n",
            "32: 94.082792%\n",
            "33: 94.323718%\n",
            "34: 94.474206%\n",
            "35: 96.063492%\n",
            "36: 95.469877%\n",
            "37: 92.720543%\n",
            "38: 90.266608%\n",
            "39: 87.349331%\n",
            "40: 91.629038%\n",
            "41: 95.525794%\n",
            "42: 90.553571%\n",
            "43: 92.071678%\n",
            "44: 91.460928%\n",
            "45: 90.462246%\n",
            "46: 93.789266%\n",
            "47: 87.651168%\n",
            "48: 89.064103%\n",
            "49: 96.256383%\n",
            "50: 87.710331%\n",
            "51: 88.859127%\n",
            "52: 90.141123%\n",
            "53: 85.916306%\n",
            "54: 87.950216%\n",
            "55: 85.025031%\n",
            "56: 87.228175%\n",
            "57: 83.256258%\n",
            "58: 86.935134%\n",
            "59: 85.888889%\n",
            "60: 82.757118%\n",
            "61: 86.660964%\n",
            "62: 86.656566%\n",
            "63: 79.731782%\n",
            "64: 86.823357%\n",
            "65: 84.950216%\n",
            "66: 87.719114%\n",
            "67: 86.305195%\n",
            "68: 87.553488%\n",
            "69: 83.562063%\n",
            "70: 84.404762%\n",
            "71: 87.837607%\n",
            "72: 88.540904%\n",
            "73: 88.975247%\n",
            "74: 82.220307%\n",
            "75: 83.009768%\n",
            "76: 86.472597%\n",
            "77: 82.784646%\n",
            "78: 87.166667%\n",
            "79: 83.240079%\n",
            "80: 83.093254%\n",
            "81: 89.689103%\n",
            "82: 83.405594%\n",
            "83: 76.955267%\n",
            "84: 83.436883%\n",
            "85: 82.565795%\n",
            "86: 87.238470%\n",
            "87: 87.410714%\n",
            "88: 79.592186%\n",
            "89: 82.041736%\n",
            "90: 83.787962%\n",
            "91: 81.277778%\n",
            "92: 86.881202%\n",
            "93: 82.997863%\n",
            "94: 79.074495%\n",
            "95: 83.416681%\n",
            "96: 79.800505%\n",
            "97: 86.949856%\n",
            "98: 81.635836%\n",
            "99: 87.168290%\n",
            "100: 78.204004%\n",
            "101: 88.590576%\n",
            "102: 85.132395%\n",
            "103: 90.765332%\n",
            "104: 81.502373%\n",
            "105: 89.222611%\n",
            "106: 83.169567%\n",
            "107: 85.308150%\n",
            "108: 76.717186%\n",
            "109: 80.936896%\n",
            "110: 87.312771%\n",
            "111: 78.583333%\n",
            "112: 77.127900%\n",
            "113: 78.817100%\n",
            "114: 76.325244%\n",
            "115: 75.725830%\n",
            "116: 76.719475%\n",
            "117: 89.702936%\n",
            "118: 76.110209%\n",
            "119: 80.003608%\n",
            "120: 84.676657%\n",
            "121: 82.586941%\n",
            "122: 81.346681%\n",
            "123: 80.842532%\n",
            "124: 83.350469%\n",
            "125: 74.318376%\n",
            "126: 74.579365%\n",
            "127: 82.834957%\n",
            "128: 76.166681%\n",
            "129: 80.624126%\n",
            "130: 77.263889%\n",
            "131: 82.398810%\n",
            "132: 77.506313%\n",
            "133: 71.295940%\n",
            "134: 78.421800%\n",
            "135: 83.079365%\n",
            "136: 70.112554%\n",
            "137: 82.901709%\n",
            "138: 70.331849%\n",
            "139: 66.743631%\n",
            "140: 75.519841%\n",
            "141: 72.904040%\n",
            "142: 76.448607%\n",
            "143: 70.521284%\n",
            "144: 70.530830%\n",
            "145: 72.516636%\n",
            "146: 70.647908%\n",
            "147: 63.797619%\n",
            "148: 68.202020%\n",
            "149: 65.147186%\n",
            "150: 63.078644%\n",
            "151: 64.032468%\n",
            "152: 73.505425%\n",
            "153: 74.023352%\n",
            "154: 60.106255%\n",
            "155: 67.608586%\n",
            "156: 54.610181%\n",
            "157: 69.830267%\n",
            "158: 72.985348%\n",
            "159: 57.983045%\n",
            "160: 55.341117%\n",
            "161: 51.440476%\n",
            "162: 56.764236%\n",
            "163: 51.455891%\n",
            "164: 43.964286%\n",
            "165: 59.399129%\n",
            "166: 49.381313%\n",
            "167: 57.089494%\n",
            "168: 52.170635%\n",
            "169: 50.630203%\n",
            "170: 46.565476%\n",
            "171: 40.209402%\n",
            "172: 43.311064%\n",
            "173: 42.191392%\n",
            "174: 48.778860%\n",
            "175: 42.657773%\n",
            "176: 46.803127%\n",
            "177: 47.683442%\n",
            "178: 42.689255%\n",
            "179: 43.991911%\n",
            "180: 41.837302%\n",
            "181: 39.462995%\n",
            "182: 40.379274%\n",
            "183: 36.839286%\n",
            "184: 39.564103%\n",
            "185: 40.511364%\n",
            "186: 41.924215%\n",
            "187: 32.821970%\n",
            "188: 37.080364%\n",
            "189: 35.835165%\n",
            "190: 37.934524%\n",
            "191: 28.515873%\n",
            "192: 37.958181%\n",
            "193: 26.557540%\n",
            "194: 24.311508%\n",
            "195: 36.644841%\n",
            "196: 32.291667%\n",
            "197: 35.757937%\n",
            "198: 29.696429%\n",
            "199: 39.151876%\n",
            "200: 35.093795%\n",
            "201: 33.703963%\n",
            "202: 42.967186%\n",
            "203: 30.073843%\n",
            "204: 28.474747%\n",
            "205: 35.940837%\n",
            "206: 32.114316%\n",
            "207: 28.408189%\n",
            "208: 42.285714%\n",
            "209: 22.583333%\n",
            "210: 34.857601%\n",
            "211: 31.692460%\n",
            "212: 32.482601%\n",
            "213: 30.140568%\n",
            "214: 41.180653%\n",
            "215: 36.168956%\n",
            "216: 31.406593%\n",
            "217: 31.732559%\n",
            "218: 21.072858%\n",
            "219: 28.667666%\n",
            "220: 35.472985%\n",
            "221: 27.651335%\n",
            "222: 18.694306%\n",
            "223: 26.416847%\n",
            "224: 20.760184%\n",
            "225: 21.177850%\n",
            "226: 35.459207%\n",
            "227: 20.848748%\n",
            "228: 23.275641%\n",
            "229: 24.637987%\n",
            "230: 17.236472%\n",
            "231: 24.419164%\n",
            "232: 31.005925%\n",
            "233: 30.323149%\n",
            "234: 31.958486%\n",
            "235: 27.946262%\n",
            "236: 20.979174%\n",
            "237: 22.216603%\n",
            "238: 23.230311%\n",
            "239: 22.044650%\n",
            "240: 23.398810%\n",
            "241: 28.109668%\n",
            "242: 24.008353%\n",
            "243: 18.521825%\n",
            "244: 15.922619%\n",
            "245: 18.568834%\n",
            "246: 20.046356%\n",
            "247: 26.584707%\n",
            "248: 26.415904%\n",
            "249: 26.732864%\n",
            "250: 23.708028%\n",
            "251: 19.921703%\n",
            "252: 22.273810%\n",
            "253: 20.367063%\n",
            "254: 28.100733%\n",
            "255: 17.838980%\n",
            "256: 30.875722%\n",
            "257: 20.533120%\n",
            "258: 22.812743%\n",
            "259: 22.452381%\n",
            "260: 15.311258%\n",
            "261: 23.259615%\n",
            "262: 19.807692%\n",
            "263: 20.429640%\n",
            "264: 24.204212%\n",
            "265: 17.769980%\n",
            "266: 22.746087%\n",
            "267: 15.881868%\n",
            "268: 22.750902%\n",
            "269: 22.663475%\n",
            "270: 26.309690%\n",
            "271: 21.020022%\n",
            "272: 16.689394%\n",
            "273: 14.177434%\n",
            "274: 16.224720%\n",
            "275: 26.079365%\n",
            "276: 19.877886%\n",
            "277: 15.736167%\n",
            "278: 13.640263%\n",
            "279: 21.052656%\n",
            "280: 22.589744%\n",
            "281: 18.002498%\n",
            "282: 23.389805%\n",
            "283: 22.166417%\n",
            "284: 21.019952%\n",
            "285: 24.182900%\n",
            "286: 16.767247%\n",
            "287: 14.130037%\n",
            "288: 28.657828%\n",
            "289: 26.404762%\n",
            "290: 9.777223%\n",
            "291: 20.883658%\n",
            "292: 13.046287%\n",
            "293: 16.081710%\n",
            "294: 11.067460%\n",
            "295: 15.857559%\n",
            "296: 15.442960%\n",
            "297: 18.693723%\n",
            "298: 16.827381%\n",
            "299: 14.942460%\n",
            "300: 11.412574%\n",
            "301: 17.451465%\n",
            "302: 15.513875%\n",
            "303: 24.609668%\n",
            "304: 17.418040%\n",
            "305: 25.652473%\n",
            "306: 27.685051%\n",
            "307: 19.268579%\n",
            "308: 15.362665%\n",
            "309: 12.761905%\n",
            "310: 13.255952%\n",
            "311: 10.646825%\n",
            "312: 29.658730%\n",
            "313: 19.459762%\n",
            "314: 13.094017%\n",
            "315: 20.661172%\n",
            "316: 17.316087%\n",
            "317: 13.610390%\n",
            "318: 14.454545%\n",
            "319: 18.256854%\n",
            "320: 23.693362%\n",
            "321: 19.549867%\n",
            "322: 6.616453%\n",
            "323: 20.991092%\n",
            "324: 23.294733%\n",
            "325: 14.648990%\n",
            "326: 12.803266%\n",
            "327: 7.017427%\n",
            "328: 16.247586%\n",
            "329: 14.422314%\n",
            "330: 10.459416%\n",
            "331: 15.311563%\n",
            "332: 11.278680%\n",
            "333: 15.252165%\n",
            "334: 18.774351%\n",
            "335: 17.319444%\n",
            "336: 15.466991%\n",
            "337: 24.253538%\n",
            "338: 16.633478%\n",
            "339: 15.552281%\n",
            "340: 18.758838%\n",
            "341: 18.324786%\n",
            "342: 11.474747%\n",
            "343: 12.961039%\n",
            "344: 15.008117%\n",
            "345: 17.396520%\n",
            "346: 13.621129%\n",
            "347: 10.607323%\n",
            "348: 9.652778%\n",
            "349: 11.722403%\n",
            "350: 14.576770%\n",
            "351: 16.520202%\n",
            "352: 9.834860%\n",
            "353: 18.581530%\n",
            "354: 10.433178%\n",
            "355: 10.733392%\n",
            "356: 5.976551%\n",
            "357: 15.555250%\n",
            "358: 10.619561%\n",
            "359: 8.023990%\n",
            "360: 11.200092%\n",
            "361: 13.512668%\n",
            "362: 7.710012%\n",
            "363: 10.317516%\n",
            "364: 8.587302%\n",
            "365: 8.894841%\n",
            "366: 8.353050%\n",
            "367: 12.490079%\n",
            "368: 11.615079%\n",
            "369: 8.603175%\n",
            "370: 14.207265%\n",
            "371: 6.363095%\n",
            "372: 9.650794%\n",
            "373: 14.293040%\n",
            "374: 18.936924%\n",
            "375: 16.694444%\n",
            "376: 12.775364%\n",
            "377: 15.693182%\n",
            "378: 9.307900%\n",
            "379: 11.676338%\n",
            "380: 16.176768%\n",
            "381: 6.446123%\n",
            "382: 8.694986%\n",
            "383: 11.871212%\n",
            "384: 14.188492%\n",
            "385: 23.028846%\n",
            "386: 8.304029%\n",
            "387: 9.295871%\n",
            "388: 9.115079%\n",
            "389: 15.437576%\n",
            "390: 6.638944%\n",
            "391: 10.996032%\n",
            "392: 8.956224%\n",
            "393: 14.259615%\n",
            "394: 14.216631%\n",
            "395: 5.272242%\n",
            "396: 10.898810%\n",
            "397: 13.638820%\n",
            "398: 7.084402%\n",
            "399: 7.633089%\n",
            "400: 10.932540%\n",
            "401: 10.594628%\n",
            "402: 8.531746%\n",
            "403: 10.572206%\n",
            "404: 14.293831%\n",
            "405: 10.312229%\n",
            "406: 15.054113%\n",
            "407: 9.689394%\n",
            "408: 10.740079%\n",
            "409: 9.710498%\n",
            "410: 11.236888%\n",
            "411: 5.400183%\n",
            "412: 13.315476%\n",
            "413: 13.180556%\n",
            "414: 7.725941%\n",
            "415: 9.775974%\n",
            "416: 11.194444%\n",
            "417: 14.650794%\n",
            "418: 10.841270%\n",
            "419: 7.646270%\n",
            "420: 12.796093%\n",
            "421: 8.935897%\n",
            "422: 11.857323%\n",
            "423: 7.460498%\n",
            "424: 9.758297%\n",
            "425: 8.739164%\n",
            "426: 13.567460%\n",
            "427: 7.488276%\n",
            "428: 4.560897%\n",
            "429: 9.450272%\n",
            "430: 14.168221%\n",
            "431: 11.357143%\n",
            "432: 6.787393%\n",
            "433: 8.505952%\n",
            "434: 10.941919%\n",
            "435: 8.692641%\n",
            "436: 11.926587%\n",
            "437: 4.940476%\n",
            "438: 11.286075%\n",
            "439: 13.943001%\n",
            "440: 10.843615%\n",
            "441: 10.190476%\n",
            "442: 9.760823%\n",
            "443: 10.940476%\n",
            "444: 7.230159%\n",
            "445: 10.541667%\n",
            "446: 8.214286%\n",
            "447: 17.480159%\n",
            "448: 11.016053%\n",
            "449: 6.710193%\n",
            "450: 14.511905%\n",
            "451: 12.241508%\n",
            "452: 9.509921%\n",
            "453: 16.859182%\n",
            "454: 3.000000%\n",
            "455: 9.555556%\n",
            "456: 9.916667%\n",
            "457: 12.715354%\n",
            "458: 5.932234%\n",
            "459: 11.111111%\n",
            "460: 10.138889%\n",
            "461: 12.320527%\n",
            "462: 9.953283%\n",
            "463: 9.972638%\n",
            "464: 9.831349%\n",
            "465: 8.531136%\n",
            "466: 8.463370%\n",
            "467: 10.885642%\n",
            "468: 16.059219%\n",
            "469: 11.491758%\n",
            "470: 8.316239%\n",
            "471: 7.698413%\n",
            "472: 7.321970%\n",
            "473: 15.672619%\n",
            "474: 6.956710%\n",
            "475: 11.774531%\n",
            "476: 7.666667%\n",
            "477: 4.088023%\n",
            "478: 4.166667%\n",
            "479: 11.561966%\n",
            "480: 18.268038%\n",
            "481: 10.460317%\n",
            "482: 12.064394%\n",
            "483: 6.283730%\n",
            "484: 11.384921%\n",
            "485: 6.720238%\n",
            "486: 16.358822%\n",
            "487: 11.545635%\n",
            "488: 10.303571%\n",
            "489: 6.269841%\n",
            "490: 7.705128%\n",
            "491: 8.638889%\n",
            "492: 9.233822%\n",
            "493: 7.327561%\n",
            "494: 5.979853%\n",
            "495: 3.833333%\n",
            "496: 10.075397%\n",
            "497: 13.247405%\n",
            "498: 13.066378%\n",
            "499: 10.043706%\n",
            "500: 13.529762%\n",
            "501: 8.551587%\n",
            "502: 8.259310%\n",
            "503: 3.857143%\n",
            "504: 12.190934%\n",
            "505: 14.537698%\n",
            "506: 9.101190%\n",
            "507: 7.728050%\n",
            "508: 10.505952%\n",
            "509: 15.414863%\n",
            "510: 12.275794%\n",
            "511: 13.222222%\n",
            "512: 7.609127%\n",
            "513: 16.746212%\n",
            "514: 6.741453%\n",
            "515: 8.982906%\n",
            "516: 7.857143%\n",
            "517: 11.401154%\n",
            "518: 9.444444%\n",
            "519: 10.233516%\n",
            "520: 9.697802%\n",
            "521: 2.083333%\n",
            "522: 8.742424%\n",
            "523: 4.769841%\n",
            "524: 7.714286%\n",
            "525: 1.839286%\n",
            "526: 4.244048%\n",
            "527: 9.117063%\n",
            "528: 7.686508%\n",
            "529: 10.505952%\n",
            "530: 6.176282%\n",
            "531: 11.757021%\n",
            "532: 6.363636%\n",
            "533: 14.377165%\n",
            "534: 11.558497%\n",
            "535: 6.438853%\n",
            "536: 11.567460%\n",
            "537: 6.896270%\n",
            "538: 15.872405%\n",
            "539: 12.425977%\n",
            "540: 8.784091%\n",
            "541: 14.291667%\n",
            "542: 15.720238%\n",
            "543: 9.682540%\n",
            "544: 10.576770%\n",
            "545: 9.125000%\n",
            "546: 9.348596%\n",
            "547: 5.991453%\n",
            "548: 10.783120%\n",
            "549: 9.583333%\n",
            "550: 8.570818%\n",
            "551: 12.460317%\n",
            "552: 14.763889%\n",
            "553: 8.331710%\n",
            "554: 5.138889%\n",
            "555: 7.367063%\n",
            "556: 6.180556%\n",
            "557: 10.349206%\n",
            "558: 11.011905%\n",
            "559: 12.344017%\n",
            "560: 5.884615%\n",
            "561: 4.785714%\n",
            "562: 10.950785%\n",
            "563: 12.938728%\n",
            "564: 14.310897%\n",
            "565: 9.979798%\n",
            "566: 6.512266%\n",
            "567: 6.269841%\n",
            "568: 3.478535%\n",
            "569: 4.315476%\n",
            "570: 3.341450%\n",
            "571: 7.847222%\n",
            "572: 7.666667%\n",
            "573: 3.229853%\n",
            "574: 1.773504%\n",
            "575: 5.912879%\n",
            "576: 7.595238%\n",
            "577: 6.417915%\n",
            "578: 4.672619%\n",
            "579: 7.002165%\n",
            "580: 5.416667%\n",
            "581: 3.746212%\n",
            "582: 8.042915%\n",
            "583: 10.158730%\n",
            "584: 6.000000%\n",
            "585: 4.825397%\n",
            "586: 4.168831%\n",
            "587: 2.896215%\n",
            "588: 5.888889%\n",
            "589: 7.971917%\n",
            "590: 3.333333%\n",
            "591: 3.333333%\n",
            "592: 11.116162%\n",
            "593: 1.625000%\n",
            "594: 3.769841%\n",
            "595: 4.645299%\n",
            "596: 4.722222%\n",
            "597: 1.464646%\n",
            "598: 7.051282%\n",
            "599: 6.694444%\n",
            "600: 6.186203%\n",
            "601: 3.769841%\n",
            "602: 8.416667%\n",
            "603: 8.498016%\n",
            "604: 3.464286%\n",
            "605: 10.613276%\n",
            "606: 8.376679%\n",
            "607: 13.259615%\n",
            "608: 4.653846%\n",
            "609: 11.767857%\n",
            "610: 5.106838%\n",
            "611: 7.922799%\n",
            "612: 4.301768%\n",
            "613: 5.125000%\n",
            "614: 9.940171%\n",
            "615: 3.463980%\n",
            "616: 6.483516%\n",
            "617: 5.267857%\n",
            "618: 5.503663%\n",
            "619: 4.277778%\n",
            "620: 3.939394%\n",
            "621: 6.057720%\n",
            "622: 8.571429%\n",
            "623: 4.543040%\n",
            "624: 6.811203%\n",
            "625: 4.000000%\n",
            "626: 3.777958%\n",
            "627: 8.609127%\n",
            "628: 4.279942%\n",
            "629: 9.759615%\n",
            "630: 2.166667%\n",
            "631: 6.317641%\n",
            "632: 2.264957%\n",
            "633: 10.918346%\n",
            "634: 2.222222%\n",
            "635: 6.098901%\n",
            "636: 4.208333%\n",
            "637: 6.409091%\n",
            "638: 8.640568%\n",
            "639: 6.299659%\n",
            "640: 8.936508%\n",
            "641: 5.857143%\n",
            "642: 6.198413%\n",
            "643: 7.696609%\n",
            "644: 5.385101%\n",
            "645: 8.777778%\n",
            "646: 8.293651%\n",
            "647: 6.763889%\n",
            "648: 9.394231%\n",
            "649: 4.991453%\n",
            "650: 10.835498%\n",
            "651: 7.861167%\n",
            "652: 2.912698%\n",
            "653: 4.876068%\n",
            "654: 7.726190%\n",
            "655: 2.765568%\n",
            "656: 8.976190%\n",
            "657: 7.033730%\n",
            "658: 2.180556%\n",
            "659: 5.896270%\n",
            "660: 5.357323%\n",
            "661: 2.166667%\n",
            "662: 2.662698%\n",
            "663: 5.395022%\n",
            "664: 7.261905%\n",
            "665: 1.190476%\n",
            "666: 6.583333%\n",
            "667: 1.852869%\n",
            "668: 8.648990%\n",
            "669: 5.922619%\n",
            "670: 3.618742%\n",
            "671: 5.644841%\n",
            "672: 1.894841%\n",
            "673: 7.666667%\n",
            "674: 4.158911%\n",
            "675: 16.194444%\n",
            "676: 5.232684%\n",
            "677: 8.047619%\n",
            "678: 5.627040%\n",
            "679: 6.269841%\n",
            "680: 10.763889%\n",
            "681: 4.975580%\n",
            "682: 5.944444%\n",
            "683: 8.420635%\n",
            "684: 8.888889%\n",
            "685: 14.798035%\n",
            "686: 12.797619%\n",
            "687: 6.277778%\n",
            "688: 7.666667%\n",
            "689: 10.295635%\n",
            "690: 11.111111%\n",
            "691: 0.416667%\n",
            "692: 8.886294%\n",
            "693: 4.995726%\n",
            "694: 5.768218%\n",
            "695: 3.144841%\n",
            "696: 4.605700%\n",
            "697: 3.166667%\n",
            "698: 12.222222%\n",
            "699: 5.986111%\n",
            "700: 7.918831%\n",
            "701: 4.166667%\n",
            "702: 2.500000%\n",
            "703: 3.380952%\n",
            "704: 3.958333%\n",
            "705: 13.360806%\n",
            "706: 8.333333%\n",
            "707: 10.027778%\n",
            "708: 7.738095%\n",
            "709: 5.416667%\n",
            "710: 5.468434%\n",
            "711: 6.898990%\n",
            "712: 5.408425%\n",
            "713: 8.883700%\n",
            "714: 1.666667%\n",
            "715: 8.847222%\n",
            "716: 6.432900%\n",
            "717: 2.380952%\n",
            "718: 5.217949%\n",
            "719: 5.720474%\n",
            "720: 11.462302%\n",
            "721: 4.236111%\n",
            "722: 9.789863%\n",
            "723: 9.894841%\n",
            "724: 6.204545%\n",
            "725: 7.386905%\n",
            "726: 7.688492%\n",
            "727: 9.007937%\n",
            "728: 4.194444%\n",
            "729: 14.031926%\n",
            "730: 1.482143%\n",
            "731: 1.482143%\n",
            "732: 3.579060%\n",
            "733: 2.166667%\n",
            "734: 11.190476%\n",
            "735: 10.069375%\n",
            "736: 1.515568%\n",
            "737: 6.892857%\n",
            "738: 15.634921%\n",
            "739: 15.277778%\n",
            "740: 8.666667%\n",
            "741: 7.069444%\n",
            "742: 7.616758%\n",
            "743: 7.394841%\n",
            "744: 7.708333%\n",
            "745: 8.617244%\n",
            "746: 5.505952%\n",
            "747: 8.898504%\n",
            "748: 6.902778%\n",
            "749: 5.534799%\n",
            "750: 2.123377%\n",
            "751: 7.569444%\n",
            "752: 6.495726%\n",
            "753: 8.524351%\n",
            "754: 4.246032%\n",
            "755: 13.886905%\n",
            "756: 3.388889%\n",
            "757: 11.527778%\n",
            "758: 4.928571%\n",
            "759: 8.544289%\n",
            "760: 9.664683%\n",
            "761: 6.714286%\n",
            "762: 4.575577%\n",
            "763: 2.769231%\n",
            "764: 7.287393%\n",
            "765: 4.342949%\n",
            "766: 7.662698%\n",
            "767: 9.487790%\n",
            "768: 6.690657%\n",
            "769: 7.555556%\n",
            "770: 11.408730%\n",
            "771: 11.444625%\n",
            "772: 4.801587%\n",
            "773: 13.380952%\n",
            "774: 1.750000%\n",
            "775: 7.334402%\n",
            "776: 8.544012%\n",
            "777: 11.169414%\n",
            "778: 11.101190%\n",
            "779: 1.010101%\n",
            "780: 6.813187%\n",
            "781: 6.158730%\n",
            "782: 3.820513%\n",
            "783: 10.542735%\n",
            "784: 7.458333%\n",
            "785: 5.172980%\n",
            "786: 1.880828%\n",
            "787: 6.672619%\n",
            "788: 5.029762%\n",
            "789: 6.617063%\n",
            "790: 5.472222%\n",
            "791: 6.884921%\n",
            "Test error: 8.143237%\n"
          ],
          "name": "stdout"
        }
      ]
    },
    {
      "metadata": {
        "id": "WjVhatNqYbwO",
        "colab_type": "code",
        "colab": {}
      },
      "cell_type": "code",
      "source": [
        ""
      ],
      "execution_count": 0,
      "outputs": []
    },
    {
      "metadata": {
        "id": "oRvmuW-4XZz2",
        "colab_type": "code",
        "colab": {}
      },
      "cell_type": "code",
      "source": [
        ""
      ],
      "execution_count": 0,
      "outputs": []
    },
    {
      "metadata": {
        "id": "bGGnUGwmXDae",
        "colab_type": "code",
        "colab": {}
      },
      "cell_type": "code",
      "source": [
        ""
      ],
      "execution_count": 0,
      "outputs": []
    },
    {
      "metadata": {
        "id": "reDndMPaWz84",
        "colab_type": "code",
        "colab": {}
      },
      "cell_type": "code",
      "source": [
        ""
      ],
      "execution_count": 0,
      "outputs": []
    },
    {
      "metadata": {
        "id": "rryM1_XAVz-e",
        "colab_type": "code",
        "colab": {}
      },
      "cell_type": "code",
      "source": [
        ""
      ],
      "execution_count": 0,
      "outputs": []
    },
    {
      "metadata": {
        "id": "gQ7IHfDbVBd-",
        "colab_type": "code",
        "colab": {}
      },
      "cell_type": "code",
      "source": [
        ""
      ],
      "execution_count": 0,
      "outputs": []
    },
    {
      "metadata": {
        "id": "8XJebIQsU9O2",
        "colab_type": "code",
        "colab": {}
      },
      "cell_type": "code",
      "source": [
        ""
      ],
      "execution_count": 0,
      "outputs": []
    },
    {
      "metadata": {
        "id": "dsFsshlzTp8t",
        "colab_type": "code",
        "colab": {}
      },
      "cell_type": "code",
      "source": [
        ""
      ],
      "execution_count": 0,
      "outputs": []
    },
    {
      "metadata": {
        "id": "LoRTfJHXTn8O",
        "colab_type": "code",
        "colab": {}
      },
      "cell_type": "code",
      "source": [
        ""
      ],
      "execution_count": 0,
      "outputs": []
    },
    {
      "metadata": {
        "id": "kfdajnpCSxcF",
        "colab_type": "code",
        "colab": {}
      },
      "cell_type": "code",
      "source": [
        ""
      ],
      "execution_count": 0,
      "outputs": []
    },
    {
      "metadata": {
        "id": "VnyPwk05SolV",
        "colab_type": "code",
        "colab": {}
      },
      "cell_type": "code",
      "source": [
        ""
      ],
      "execution_count": 0,
      "outputs": []
    },
    {
      "metadata": {
        "id": "aBr7cDdsRbgV",
        "colab_type": "code",
        "colab": {}
      },
      "cell_type": "code",
      "source": [
        ""
      ],
      "execution_count": 0,
      "outputs": []
    }
  ]
}